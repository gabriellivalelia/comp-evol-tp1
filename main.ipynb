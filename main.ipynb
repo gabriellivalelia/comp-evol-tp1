{
 "cells": [
  {
   "cell_type": "markdown",
   "id": "b4d3cd4c",
   "metadata": {},
   "source": [
    "# Otimização de CNNs"
   ]
  }
 ],
 "metadata": {
  "kernelspec": {
   "display_name": "comp-evol-tp1",
   "language": "python",
   "name": "python3"
  },
  "language_info": {
   "name": "python",
   "version": "3.13.7"
  }
 },
 "nbformat": 4,
 "nbformat_minor": 5
}
